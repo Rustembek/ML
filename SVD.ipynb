{
 "cells": [
  {
   "cell_type": "code",
   "execution_count": 1,
   "metadata": {},
   "outputs": [
    {
     "name": "stdout",
     "output_type": "stream",
     "text": [
      "[[0.         1.         1.        ]\n",
      " [1.41421356 2.         0.        ]\n",
      " [0.         1.         1.        ]]\n",
      "THE S :\n",
      "\n",
      "[[2.82842712+0.00000000e+00j 0.        +0.00000000e+00j\n",
      "  0.        +0.00000000e+00j]\n",
      " [0.        +0.00000000e+00j 0.        +2.77167193e-09j\n",
      "  0.        +0.00000000e+00j]\n",
      " [0.        +0.00000000e+00j 0.        +0.00000000e+00j\n",
      "  1.41421356+0.00000000e+00j]]\n",
      "THE V :\n",
      "\n",
      "[[-4.08248290e-01  7.07106781e-01 -5.77350269e-01]\n",
      " [-8.66025404e-01 -5.00000000e-01 -7.84321844e-17]\n",
      " [-2.88675135e-01  5.00000000e-01  8.16496581e-01]]\n",
      "THE U :\n",
      "\n",
      "[[-0.40824829+0.00000000e+00j  0.        +4.00560763e-08j\n",
      "   0.57735027+0.00000000e+00j]\n",
      " [-0.81649658+0.00000000e+00j  0.        -8.01121526e-08j\n",
      "  -0.57735027+0.00000000e+00j]\n",
      " [-0.40824829+0.00000000e+00j  0.        +4.00560763e-08j\n",
      "   0.57735027+0.00000000e+00j]]\n",
      "THE USV^t :\n",
      "\n",
      "[[-1.08373789e-17+0.j  1.00000000e+00+0.j  1.00000000e+00+0.j]\n",
      " [ 1.41421356e+00+0.j  2.00000000e+00+0.j -5.49219252e-16+0.j]\n",
      " [-1.08373789e-17+0.j  1.00000000e+00+0.j  1.00000000e+00+0.j]]\n"
     ]
    },
    {
     "data": {
      "text/plain": [
       "0"
      ]
     },
     "execution_count": 1,
     "metadata": {},
     "output_type": "execute_result"
    }
   ],
   "source": [
    "import numpy as np\n",
    "import pandas as pd\n",
    "from math import sqrt\n",
    "import scipy\n",
    "from scipy import linalg\n",
    "\n",
    "def SVD(A):\n",
    "    print(A)\n",
    "    AT = A.transpose()\n",
    "    AdotAT = A.dot(AT)\n",
    "    ATdotA = AT.dot(A)            \n",
    "    S, V = linalg.eig(ATdotA)\n",
    "    \n",
    "    V_tr = V.transpose()\n",
    "   \n",
    "    S = np.diag(np.sqrt(S))\n",
    "    inv_S = np.linalg.inv(S)    \n",
    "\n",
    "    U = A.dot(V).dot(inv_S)\n",
    "    USV_t = U.dot(S.dot(V_tr))\n",
    "    print(\"THE S :\\n\")\n",
    "    print(S)\n",
    "    print(\"THE V :\\n\")\n",
    "    print(V)\n",
    "    print(\"THE U :\\n\")\n",
    "    print(U)\n",
    "    print(\"THE USV^t :\\n\")\n",
    "    print(USV_t)\n",
    "    return 0\n",
    "\n",
    "A = np.array([[0, 1, 1], [sqrt(2), 2, 0], [0, 1, 1]])\n",
    "#A = np.array([[0, sqrt(2), 0], [1, 2, 1], [1, 0, 1]])\n",
    "SVD(A)"
   ]
  },
  {
   "cell_type": "code",
   "execution_count": null,
   "metadata": {},
   "outputs": [],
   "source": []
  }
 ],
 "metadata": {
  "kernelspec": {
   "display_name": "Python 3",
   "language": "python",
   "name": "python3"
  },
  "language_info": {
   "codemirror_mode": {
    "name": "ipython",
    "version": 3
   },
   "file_extension": ".py",
   "mimetype": "text/x-python",
   "name": "python",
   "nbconvert_exporter": "python",
   "pygments_lexer": "ipython3",
   "version": "3.6.5"
  }
 },
 "nbformat": 4,
 "nbformat_minor": 2
}
