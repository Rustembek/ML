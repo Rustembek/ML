{
 "cells": [
  {
   "cell_type": "code",
   "execution_count": 11,
   "metadata": {
    "scrolled": true
   },
   "outputs": [
    {
     "name": "stdout",
     "output_type": "stream",
     "text": [
      "[0.0, 0.9527544408738466, 0.8644738145642124, 0.8951715163278082, 0.7770887149698589, 0.9402385695332803, 0.7327387580875756, 0.9258750683338899, 0.884272487528431, 0.9055088817476932, 0.8328165362273942, 0.8804771390665607, 0.8396432548525454, 0.8703592552895671, 0.8740118423302576, 0.9442721787424647, 0.8406361854220809, 0.956644501523794, 0.9442721787424647, 0.8885443574849294, 0.8427572744917122, 0.8250364469440586]\n"
     ]
    }
   ],
   "source": [
    "#Code written by TRB\n",
    "import re\n",
    "import numpy\n",
    "\n",
    "\n",
    "def cosDist(x, y):#this is the function that finds cosine distance between vextor x and vector y\n",
    "    xl = 0\n",
    "    yl = 0\n",
    "    xy = 0;\n",
    "    for i in range(len(y)): # Formula for this distance is 1 - (sum(x*y) / sum(xl^2 * yl^2)),     \n",
    "        xy += x[i] * y[i]\n",
    "        xl += x[i] * x[i] \n",
    "        yl += y[i] * y[i]\n",
    "    return 1 - (xy / (numpy.sqrt(xl) * numpy.sqrt(yl)))\n",
    "\n",
    "\n",
    "file = open(\"C:\\\\Users\\\\Рустем\\\\Desktop\\\\ml\\\\sentences.txt\", \"r\")\n",
    "sentences =[] # Creating the array of sentences\n",
    "words = re.split('[^a-z]', file.read().lower())#getting words from sentence.txt\n",
    "words = list(filter(None, words))\n",
    "\n",
    "unique_words = numpy.unique(words) # Getting a list of unique words\n",
    "unique_words_count = len(unique_words)#Counting how may words we got\n",
    "ind = list(range(0, unique_words_count))#calculating indexes\n",
    "dictionary = dict(zip(ind, unique_words))#Creating dictionary\n",
    "answer = []\n",
    "file.seek(0) \n",
    "\n",
    "for line in file:   \n",
    "    line = re.split('[^a-z]', line.lower()) #we take text from sentence txt \n",
    "    line = list(filter(None, line)) # Remove empty strings    \n",
    "    sentences.append(line)  \n",
    "        \n",
    "sentences_count = len(sentences)# this is n (the length of matrix)\n",
    "matrix = numpy.zeros(shape = (sentences_count, unique_words_count))#creating the matrix\n",
    "\n",
    "for i in range(sentences_count):\n",
    "    for j in range (unique_words_count):\n",
    "        matrix[i][j] = sentences[i].count(dictionary[j])\n",
    "\n",
    "for i in range(sentences_count):\n",
    "    answer.append(cosDist(matrix[0], matrix[i]))\n",
    "    \n",
    "print(answer)\n"
   ]
  },
  {
   "cell_type": "code",
   "execution_count": null,
   "metadata": {},
   "outputs": [],
   "source": []
  },
  {
   "cell_type": "code",
   "execution_count": null,
   "metadata": {},
   "outputs": [],
   "source": []
  },
  {
   "cell_type": "code",
   "execution_count": null,
   "metadata": {},
   "outputs": [],
   "source": []
  },
  {
   "cell_type": "code",
   "execution_count": null,
   "metadata": {},
   "outputs": [],
   "source": []
  },
  {
   "cell_type": "code",
   "execution_count": null,
   "metadata": {},
   "outputs": [],
   "source": []
  },
  {
   "cell_type": "code",
   "execution_count": null,
   "metadata": {},
   "outputs": [],
   "source": []
  }
 ],
 "metadata": {
  "kernelspec": {
   "display_name": "Python 3",
   "language": "python",
   "name": "python3"
  },
  "language_info": {
   "codemirror_mode": {
    "name": "ipython",
    "version": 3
   },
   "file_extension": ".py",
   "mimetype": "text/x-python",
   "name": "python",
   "nbconvert_exporter": "python",
   "pygments_lexer": "ipython3",
   "version": "3.6.5"
  }
 },
 "nbformat": 4,
 "nbformat_minor": 2
}
