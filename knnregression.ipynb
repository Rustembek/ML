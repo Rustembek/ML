{
 "cells": [
  {
   "cell_type": "code",
   "execution_count": 22,
   "metadata": {},
   "outputs": [],
   "source": [
    "import numpy as np\n",
    "from sklearn.datasets import load_iris\n",
    "from random import random\n",
    "from sklearn.model_selection import train_test_split\n",
    "import math\n",
    "import operator"
   ]
  },
  {
   "cell_type": "code",
   "execution_count": 23,
   "metadata": {},
   "outputs": [],
   "source": [
    "def distance(x, y):\n",
    "    dist = 0\n",
    "    for i in range(x.shape[0]):\n",
    "        dist += math.pow(x[i] - y[i], 2)\n",
    "        dist = math.sqrt(dist)\n",
    "    return dist"
   ]
  },
  {
   "cell_type": "code",
   "execution_count": null,
   "metadata": {},
   "outputs": [],
   "source": [
    "def knnReg(sample, train_Data, k):\n",
    "    elements = train_Data.shape[0]\n",
    "    distances = []    \n",
    "    for i in range(elements):\n",
    "        distances.append((train_Data[i], distance(sample, train_Data[i])))\n",
    "                \n",
    "    distances.sort(key=operator.itemgetter(1)) \n",
    "    \n",
    "    kNearest = []\n",
    "    \n",
    "    for i in range(k):\n",
    "        kNearest.append(distances[i][0])\n",
    "    result = 0\n",
    "    for element in kNearest:        \n",
    "        result += element[0]        \n",
    "    return result / k"
   ]
  },
  {
   "cell_type": "code",
   "execution_count": 24,
   "metadata": {},
   "outputs": [],
   "source": []
  },
  {
   "cell_type": "code",
   "execution_count": 32,
   "metadata": {},
   "outputs": [],
   "source": [
    "d_set = load_iris()\n",
    "d_set.data.shape\n",
    "x_train, x_test, y_train, y_test = train_test_split(d_set['data'], d_set['target'],test_size=0.2, random_state=15)"
   ]
  },
  {
   "cell_type": "code",
   "execution_count": 28,
   "metadata": {},
   "outputs": [
    {
     "name": "stdout",
     "output_type": "stream",
     "text": [
      "6.5\n",
      "6.466666666666666\n",
      "----------------------------\n",
      "5.5\n",
      "5.400000000000001\n",
      "----------------------------\n",
      "6.4\n",
      "6.400000000000001\n",
      "----------------------------\n",
      "7.7\n",
      "7.733333333333333\n",
      "----------------------------\n",
      "5.6\n",
      "5.666666666666667\n",
      "----------------------------\n",
      "6.4\n",
      "6.366666666666667\n",
      "----------------------------\n",
      "6.1\n",
      "6.099999999999999\n",
      "----------------------------\n",
      "6.4\n",
      "6.3999999999999995\n",
      "----------------------------\n",
      "6.7\n",
      "6.766666666666667\n",
      "----------------------------\n",
      "5.1\n",
      "5.1\n",
      "----------------------------\n",
      "5.6\n",
      "5.666666666666667\n",
      "----------------------------\n",
      "6.3\n",
      "6.3\n",
      "----------------------------\n",
      "4.6\n",
      "4.633333333333333\n",
      "----------------------------\n",
      "5.5\n",
      "5.566666666666666\n",
      "----------------------------\n",
      "6.6\n",
      "6.6000000000000005\n",
      "----------------------------\n"
     ]
    }
   ],
   "source": [
    "for i in range(len(x_test)):\n",
    "    print(x_test[i][0])\n",
    "    print(knnReg(x_test[i], x_train, 5))\n",
    "    print(\"----------------------------\")"
   ]
  },
  {
   "cell_type": "code",
   "execution_count": null,
   "metadata": {},
   "outputs": [],
   "source": []
  }
 ],
 "metadata": {
  "kernelspec": {
   "display_name": "Python 3",
   "language": "python",
   "name": "python3"
  },
  "language_info": {
   "codemirror_mode": {
    "name": "ipython",
    "version": 3
   },
   "file_extension": ".py",
   "mimetype": "text/x-python",
   "name": "python",
   "nbconvert_exporter": "python",
   "pygments_lexer": "ipython3",
   "version": "3.6.5"
  }
 },
 "nbformat": 4,
 "nbformat_minor": 2
}
